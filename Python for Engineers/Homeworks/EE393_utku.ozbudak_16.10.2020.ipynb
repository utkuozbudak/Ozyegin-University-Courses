{
 "cells": [
  {
   "cell_type": "markdown",
   "metadata": {},
   "source": [
    "EE393 - Week 2 Self study exercises\n",
    "===================================\n",
    "- Your task is either to write or modify code to accomplish what's given in the comments area\n",
    "- Submit the completed Jupyter notebook to LMS.\n",
    "- Name it as EE393_name.surname_date_of_submission (ddmmyy)\n",
    "- Due 19.10.20\n",
    "- Cheating will not be tolerated."
   ]
  },
  {
   "cell_type": "markdown",
   "metadata": {},
   "source": [
    "#Print your name, surname and student number here using markdown\n",
    "- Name Surname: O. Utku Ozbudak \n",
    "- Student Number: S012136"
   ]
  },
  {
   "cell_type": "code",
   "execution_count": null,
   "metadata": {},
   "outputs": [],
   "source": [
    "#print the version of python you are using\n",
    "!python --version"
   ]
  },
  {
   "cell_type": "code",
   "execution_count": null,
   "metadata": {},
   "outputs": [],
   "source": [
    "# find and print the results of the following computations : \n",
    "# a) cotangent of pi/6, \n",
    "# b) square root of 1/e, \n",
    "# c) arc tangent ((1-x)/(1+x)) where x = 0.75\n",
    "# d) Equivalent resistence, Reqv, if two resistances R1 and R2 are parallelly connected. \n",
    "# Take R1=5 ohm, R2=10 ohm\n",
    "# Convert number 17.6 to int, first then convert the result to hexadecimal\n",
    "# For a given complex number a+bj, find and print the conjugate \n",
    "from math import *\n",
    "print(\"Cotangent of pi/6 = \", ( cos(pi/6) / (sin(pi/6))) )\n",
    "\n",
    "print(\"Square root of 1/e = \", sqrt(1/e))\n",
    "\n",
    "print(\"Arc tangent of ((1-0.75)/(1+0.75)) = \", atan(((1-0.75)/(1+0.75))))\n",
    "\n",
    "Reqv = 5**-1 + 10**-1 # Reqv = 1/10 + 1/5\n",
    "Reqv = Reqv**-1 # Reqv = Reqv^-1\n",
    "print(Reqv)\n",
    "\n",
    "x = 17.6 #float\n",
    "x = int(x) #int\n",
    "print(hex(x)) #hex\n",
    "\n",
    "z = complex(1,3) # 1+3i\n",
    "print(z.conjugate()) #1-3i\n"
   ]
  },
  {
   "cell_type": "code",
   "execution_count": null,
   "metadata": {},
   "outputs": [],
   "source": [
    "\"\"\"\n",
    "Assign each of the following to variables: 99, 3.1415, 1/7, \"Hello OzU\", 4 + 6j, [1,2,3,10] \n",
    "print number of letters in the string\n",
    "\"\"\"\n",
    "var1, var2, var3, var4, var5, var6 = 99, 3.1415, 1/7, \"Hello OzU\", complex(4,6), [1,2,3,10]\n",
    "\n",
    "for i in var4:\n",
    "    print(i)"
   ]
  },
  {
   "cell_type": "code",
   "execution_count": null,
   "metadata": {},
   "outputs": [],
   "source": [
    "#Determine and then print the data types of the variables in the previous cell\n",
    "\n",
    "print(type(var1))\n",
    "print(type(var2))\n",
    "print(type(var3))\n",
    "print(type(var4))\n",
    "print(type(var5))\n",
    "print(type(var6))"
   ]
  },
  {
   "cell_type": "code",
   "execution_count": null,
   "metadata": {},
   "outputs": [],
   "source": [
    "#Input into the variable sentence the following string.\n",
    "#\n",
    "#\"Imagination is more important than knowledge. Knowledge is limited. Imagination encircles the world.\"\n",
    "#Write code to answer the following questions:\n",
    "#How many characters? How many words? Replace \"knowledge\" and \"Knowledge\" with \"wisdom\" properly and\n",
    "# print the new sentences? How many sentences? Split eavh of the sentences and print each of them.\n",
    "\n",
    "str = \"Imagination is more important than knowledge. Knowledge is limited. Imagination encircles the world.\"\n",
    "\n",
    "print(\"Character count with spaces: \", len(str)) # Assuming space is a character\n",
    "print(\"Character count without spaces: \", len(str) - str.count(\" \")) #Assuming space is not a character\n",
    "print(\"Number of words: \", len(str.split()))\n",
    "str = str.replace(\"Knowledge\", \"Wisdom\")\n",
    "str = str.replace(\"knowledge\", \"wisdom\")\n",
    "print(\"New Sentence: \", str)\n",
    "\n",
    "\n",
    "print(\"Character count with spaces of new sentence: \", len(str)) # Assuming space is a character\n",
    "print(\"Character count without spaces of new sentence: \", len(str) - str.count(\" \")) #Assuming space is not a character\n",
    "print(\"Number of words of new sentece: \", len(str.split()))\n",
    "\n",
    "print(str.split('.')) # Split sentences and print\n",
    "print(len(str.split('.'))-1) # Print number of sentences. Substract 1 because last '.' is not included as a sentence"
   ]
  },
  {
   "cell_type": "code",
   "execution_count": null,
   "metadata": {},
   "outputs": [],
   "source": [
    "#Write a program that store the first 10 numbers which are divisable by 7 \n",
    "#into a variable called div_7. Print those numbers\n",
    "\n",
    "div_7 = []\n",
    "i = 0\n",
    "while(True):\n",
    "    if len(div_7) == 10: break\n",
    "    if i % 7 == 0:\n",
    "        div_7.append(i)\n",
    "    i = i + 1\n",
    "\n",
    "for x in div_7:\n",
    "    print(x)"
   ]
  },
  {
   "cell_type": "code",
   "execution_count": null,
   "metadata": {},
   "outputs": [],
   "source": [
    "#Ok, this one is challenging\n",
    "#fruit_collection = ['apple', 'orange', 'peach', 'strawberry', 'plum', 'avocado']\n",
    "#print (1) length of each list element and (2) the associated list element with first letter is capitalized\n",
    "fruit_collection = ['apple', 'orange', 'peach', 'strawberry', 'plum', 'avocado']\n",
    "for x in fruit_collection:\n",
    "    print(len(x), x.capitalize())"
   ]
  }
 ],
 "metadata": {
  "kernelspec": {
   "display_name": "Python 3",
   "language": "python",
   "name": "python3"
  },
  "language_info": {
   "codemirror_mode": {
    "name": "ipython",
    "version": 3
   },
   "file_extension": ".py",
   "mimetype": "text/x-python",
   "name": "python",
   "nbconvert_exporter": "python",
   "pygments_lexer": "ipython3",
   "version": "3.8.3"
  }
 },
 "nbformat": 4,
 "nbformat_minor": 4
}
